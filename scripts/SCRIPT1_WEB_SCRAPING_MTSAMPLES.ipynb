{
 "cells": [
  {
   "cell_type": "code",
   "execution_count": 1,
   "metadata": {
    "colab": {
     "base_uri": "https://localhost:8080/"
    },
    "id": "Y1AI5DzJeY4I",
    "outputId": "ba482f87-393f-41fc-a9de-7ea2dc3563a4"
   },
   "outputs": [],
   "source": [
    "# Importing libraries\n",
    "\n",
    "import requests\n",
    "from bs4 import BeautifulSoup\n",
    "import pandas as pd\n",
    "import matplotlib.pyplot as plt\n",
    "import numpy as np\n",
    "import re"
   ]
  },
  {
   "cell_type": "code",
   "execution_count": 2,
   "metadata": {
    "colab": {
     "base_uri": "https://localhost:8080/"
    },
    "id": "icVwYs-1lJW7",
    "outputId": "80a663a0-1f2e-4a98-897c-f8529d1d90e1"
   },
   "outputs": [
    {
     "name": "stdout",
     "output_type": "stream",
     "text": [
      "https://mtsamples.com/site/pages/browse.asp?type=3-Allergy / Immunology\n",
      "https://mtsamples.com/site/pages/browse.asp?type=94-Autopsy\n",
      "https://mtsamples.com/site/pages/browse.asp?type=5-Bariatrics\n",
      "https://mtsamples.com/site/pages/browse.asp?type=6-Cardiovascular / Pulmonary\n",
      "https://mtsamples.com/site/pages/browse.asp?type=99-Chiropractic\n",
      "https://mtsamples.com/site/pages/browse.asp?type=97-Consult - History and Phy.\n",
      "https://mtsamples.com/site/pages/browse.asp?type=70-Cosmetic / Plastic Surgery\n",
      "https://mtsamples.com/site/pages/browse.asp?type=17-Dentistry\n",
      "https://mtsamples.com/site/pages/browse.asp?type=18-Dermatology\n",
      "https://mtsamples.com/site/pages/browse.asp?type=44-Diets and Nutritions\n",
      "https://mtsamples.com/site/pages/browse.asp?type=89-Discharge Summary\n",
      "https://mtsamples.com/site/pages/browse.asp?type=93-Emergency Room Reports\n",
      "https://mtsamples.com/site/pages/browse.asp?type=21-Endocrinology\n",
      "https://mtsamples.com/site/pages/browse.asp?type=100-ENT - Otolaryngology\n",
      "https://mtsamples.com/site/pages/browse.asp?type=24-Gastroenterology\n",
      "https://mtsamples.com/site/pages/browse.asp?type=98-General Medicine\n",
      "https://mtsamples.com/site/pages/browse.asp?type=96-Hematology - Oncology\n",
      "https://mtsamples.com/site/pages/browse.asp?type=34-Hospice - Palliative Care\n",
      "https://mtsamples.com/site/pages/browse.asp?type=90-IME-QME-Work Comp etc.\n",
      "https://mtsamples.com/site/pages/browse.asp?type=92-Lab Medicine - Pathology\n",
      "https://mtsamples.com/site/pages/browse.asp?type=86-Letters\n",
      "https://mtsamples.com/site/pages/browse.asp?type=41-Nephrology\n",
      "https://mtsamples.com/site/pages/browse.asp?type=42-Neurology\n",
      "https://mtsamples.com/site/pages/browse.asp?type=43-Neurosurgery\n",
      "https://mtsamples.com/site/pages/browse.asp?type=45-Obstetrics / Gynecology\n",
      "https://mtsamples.com/site/pages/browse.asp?type=87-Office Notes\n",
      "https://mtsamples.com/site/pages/browse.asp?type=46-Ophthalmology\n",
      "https://mtsamples.com/site/pages/browse.asp?type=49-Orthopedic\n",
      "https://mtsamples.com/site/pages/browse.asp?type=105-Pain Management\n",
      "https://mtsamples.com/site/pages/browse.asp?type=66-Pediatrics - Neonatal\n",
      "https://mtsamples.com/site/pages/browse.asp?type=68-Physical Medicine - Rehab\n",
      "https://mtsamples.com/site/pages/browse.asp?type=71-Podiatry\n",
      "https://mtsamples.com/site/pages/browse.asp?type=72-Psychiatry / Psychology\n",
      "https://mtsamples.com/site/pages/browse.asp?type=95-Radiology\n",
      "https://mtsamples.com/site/pages/browse.asp?type=77-Rheumatology\n",
      "https://mtsamples.com/site/pages/browse.asp?type=78-Sleep Medicine\n",
      "https://mtsamples.com/site/pages/browse.asp?type=91-SOAP / Chart / Progress Notes\n",
      "https://mtsamples.com/site/pages/browse.asp?type=106-Speech - Language\n",
      "https://mtsamples.com/site/pages/browse.asp?type=85-Surgery\n",
      "https://mtsamples.com/site/pages/browse.asp?type=82-Urology\n"
     ]
    }
   ],
   "source": [
    "# Web scraping from the mtsamples website\n",
    "\n",
    "url = \"https://mtsamples.com/site/pages/browse.asp\"\n",
    "response = requests.get(url)\n",
    "data = []\n",
    "\n",
    "soup = BeautifulSoup(response.content, 'html.parser')\n",
    "\n",
    "\n",
    "\n",
    "ul_element = soup.find('ul', class_='list-group')\n",
    "\n",
    "\n",
    "a_tags = ul_element.find_all('a')\n",
    "href_list = [a_tag['href'] for a_tag in ul_element.find_all('a')]\n",
    "\n",
    "# Print the extracted href attributes\n",
    "for href in href_list:\n",
    "    print('https://mtsamples.com'+href)\n",
    "for parameter in href_list:\n",
    "\n",
    "  response = requests.get('https://mtsamples.com'+parameter)\n",
    "\n",
    "  # Parse the HTML content using BeautifulSoup\n",
    "  soup = BeautifulSoup(response.content, 'html.parser')\n",
    "\n",
    "  # Find the table containing the data\n",
    "  table = None\n",
    "  for tbl in soup.find_all('table'):\n",
    "    if len(tbl.find_all('tr')) > 5 and len(tbl.find_all('th')) > 0:\n",
    "      table = tbl\n",
    "      break\n",
    "\n",
    "  if table is None:\n",
    "    print(parameter)\n",
    "    print(\"No suitable table found on the webpage.\")\n",
    "  else:\n",
    "    # Extract the table headers\n",
    "    label = [th.text for th in table.find_all('th')]\n",
    "\n",
    "    # Extract the table rows\n",
    "\n",
    "    for tr in table.find_all('tr'):\n",
    "\n",
    "      for td in tr.find_all('td'):\n",
    "\n",
    "        br_tag = td.find('br')\n",
    "        if br_tag == None:\n",
    "          continue\n",
    "\n",
    "        data.append([br_tag.next_sibling.strip(),label[0]])\n",
    "\n",
    "\n",
    "# # Create a DataFrame from the extracted data\n",
    "df = pd.DataFrame(data, columns=['description', 'label'])"
   ]
  },
  {
   "cell_type": "code",
   "execution_count": 3,
   "metadata": {
    "colab": {
     "base_uri": "https://localhost:8080/"
    },
    "id": "KSpbeExptydf",
    "outputId": "0ad46351-3420-41b4-abba-4ef0c84e5b53"
   },
   "outputs": [
    {
     "data": {
      "text/plain": [
       "label\n",
       "Allergy / Immunology                8\n",
       "Autopsy                             8\n",
       "Bariatrics                         18\n",
       "Cardiovascular / Pulmonary        372\n",
       "Chiropractic                       14\n",
       "Consult - History and Phy.        515\n",
       "Cosmetic / Plastic Surgery         27\n",
       "Dentistry                          27\n",
       "Dermatology                        30\n",
       "Diets and Nutritions               10\n",
       "Discharge Summary                 108\n",
       "ENT - Otolaryngology               99\n",
       "Emergency Room Reports             75\n",
       "Endocrinology                      19\n",
       "Gastroenterology                  230\n",
       "General Medicine                  259\n",
       "Hematology - Oncology              90\n",
       "Hospice - Palliative Care           6\n",
       "IME-QME-Work Comp etc.             16\n",
       "Lab Medicine - Pathology            8\n",
       "Letters                            24\n",
       "Nephrology                         81\n",
       "Neurology                         223\n",
       "Neurosurgery                       94\n",
       "Obstetrics / Gynecology           160\n",
       "Office Notes                       53\n",
       "Ophthalmology                      83\n",
       "Orthopedic                        359\n",
       "Pain Management                    63\n",
       "Pediatrics - Neonatal              70\n",
       "Physical Medicine - Rehab          21\n",
       "Podiatry                           48\n",
       "Psychiatry / Psychology            53\n",
       "Radiology                         273\n",
       "Rheumatology                       10\n",
       "SOAP / Chart / Progress Notes     167\n",
       "Sleep Medicine                     20\n",
       "Speech - Language                   9\n",
       "Surgery                          1105\n",
       "Urology                           158\n",
       "dtype: int64"
      ]
     },
     "execution_count": 3,
     "metadata": {},
     "output_type": "execute_result"
    }
   ],
   "source": [
    "# Checking the different categories of medical_specialty\n",
    "\n",
    "df.groupby('label').size()\n"
   ]
  },
  {
   "cell_type": "code",
   "execution_count": 4,
   "metadata": {
    "colab": {
     "base_uri": "https://localhost:8080/",
     "height": 423
    },
    "id": "z6Zhdm_xVzJH",
    "outputId": "8d2dd57b-a7be-4ab2-cbea-310fe348a250"
   },
   "outputs": [
    {
     "data": {
      "text/html": [
       "<div>\n",
       "<style scoped>\n",
       "    .dataframe tbody tr th:only-of-type {\n",
       "        vertical-align: middle;\n",
       "    }\n",
       "\n",
       "    .dataframe tbody tr th {\n",
       "        vertical-align: top;\n",
       "    }\n",
       "\n",
       "    .dataframe thead th {\n",
       "        text-align: right;\n",
       "    }\n",
       "</style>\n",
       "<table border=\"1\" class=\"dataframe\">\n",
       "  <thead>\n",
       "    <tr style=\"text-align: right;\">\n",
       "      <th></th>\n",
       "      <th>description</th>\n",
       "      <th>label</th>\n",
       "    </tr>\n",
       "  </thead>\n",
       "  <tbody>\n",
       "    <tr>\n",
       "      <th>0</th>\n",
       "      <td>A 23-year-old white female presents with compl...</td>\n",
       "      <td>Allergy / Immunology</td>\n",
       "    </tr>\n",
       "    <tr>\n",
       "      <th>1</th>\n",
       "      <td>Acute allergic reaction, etiology uncertain, h...</td>\n",
       "      <td>Allergy / Immunology</td>\n",
       "    </tr>\n",
       "    <tr>\n",
       "      <th>2</th>\n",
       "      <td>Mother states he has been wheezing and coughing.</td>\n",
       "      <td>Allergy / Immunology</td>\n",
       "    </tr>\n",
       "    <tr>\n",
       "      <th>3</th>\n",
       "      <td>Patient having severe sinusitis about two to t...</td>\n",
       "      <td>Allergy / Immunology</td>\n",
       "    </tr>\n",
       "    <tr>\n",
       "      <th>4</th>\n",
       "      <td>Functional endoscopic sinus surgery with left ...</td>\n",
       "      <td>Allergy / Immunology</td>\n",
       "    </tr>\n",
       "    <tr>\n",
       "      <th>...</th>\n",
       "      <td>...</td>\n",
       "      <td>...</td>\n",
       "    </tr>\n",
       "    <tr>\n",
       "      <th>5008</th>\n",
       "      <td>Normal vasectomy</td>\n",
       "      <td>Urology</td>\n",
       "    </tr>\n",
       "    <tr>\n",
       "      <th>5009</th>\n",
       "      <td>Normal vasectomy</td>\n",
       "      <td>Urology</td>\n",
       "    </tr>\n",
       "    <tr>\n",
       "      <th>5010</th>\n",
       "      <td>Desire for sterility. Vasectomy. The vas was i...</td>\n",
       "      <td>Urology</td>\n",
       "    </tr>\n",
       "    <tr>\n",
       "      <th>5011</th>\n",
       "      <td>Fertile male with completed family. Elective m...</td>\n",
       "      <td>Urology</td>\n",
       "    </tr>\n",
       "    <tr>\n",
       "      <th>5012</th>\n",
       "      <td>Whole body radionuclide bone scan due to prost...</td>\n",
       "      <td>Urology</td>\n",
       "    </tr>\n",
       "  </tbody>\n",
       "</table>\n",
       "<p>5013 rows × 2 columns</p>\n",
       "</div>"
      ],
      "text/plain": [
       "                                            description                 label\n",
       "0     A 23-year-old white female presents with compl...  Allergy / Immunology\n",
       "1     Acute allergic reaction, etiology uncertain, h...  Allergy / Immunology\n",
       "2      Mother states he has been wheezing and coughing.  Allergy / Immunology\n",
       "3     Patient having severe sinusitis about two to t...  Allergy / Immunology\n",
       "4     Functional endoscopic sinus surgery with left ...  Allergy / Immunology\n",
       "...                                                 ...                   ...\n",
       "5008                                   Normal vasectomy               Urology\n",
       "5009                                   Normal vasectomy               Urology\n",
       "5010  Desire for sterility. Vasectomy. The vas was i...               Urology\n",
       "5011  Fertile male with completed family. Elective m...               Urology\n",
       "5012  Whole body radionuclide bone scan due to prost...               Urology\n",
       "\n",
       "[5013 rows x 2 columns]"
      ]
     },
     "execution_count": 4,
     "metadata": {},
     "output_type": "execute_result"
    }
   ],
   "source": [
    "# Visualizing the dataframe\n",
    "\n",
    "df"
   ]
  },
  {
   "cell_type": "code",
   "execution_count": 5,
   "metadata": {},
   "outputs": [],
   "source": [
    "# Savingt the dataframe to a csv file\n",
    "\n",
    "df.to_csv('Unbalanced_data.csv', index=False)"
   ]
  }
 ],
 "metadata": {
  "accelerator": "GPU",
  "colab": {
   "gpuType": "T4",
   "provenance": []
  },
  "kernelspec": {
   "display_name": "Python 3 (ipykernel)",
   "language": "python",
   "name": "python3"
  },
  "language_info": {
   "codemirror_mode": {
    "name": "ipython",
    "version": 3
   },
   "file_extension": ".py",
   "mimetype": "text/x-python",
   "name": "python",
   "nbconvert_exporter": "python",
   "pygments_lexer": "ipython3",
   "version": "3.9.0"
  }
 },
 "nbformat": 4,
 "nbformat_minor": 1
}
